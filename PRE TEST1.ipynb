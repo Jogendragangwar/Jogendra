{
 "cells": [
  {
   "cell_type": "code",
   "execution_count": null,
   "metadata": {},
   "outputs": [],
   "source": [
    "# 1. List Operation and Basic Statistics\n",
    "l=[x for x in range(1,21)]\n",
    "print(\"list of first 20 natural numbers:\",l)\n",
    "\n",
    "evensum=0\n",
    "oddproduct=1\n",
    "\n",
    "for i in l:\n",
    "    if i%2==0:\n",
    "        evensum+=i\n",
    "    else:\n",
    "        oddproduct*=i\n",
    "\n",
    "print(\"Sum of even numbers:\",evensum)\n",
    "print(\"Product of odd numbers:\",oddproduct)\n",
    "\n",
    "mean=sum(l)/len(l)\n",
    "print(\"Mean of the list:\",mean)\n",
    "\n",
    "#Median\n",
    "median=l[(len(l)+1)//2-1] if len(l)%2!=0 else (l[len(l)//2-1]+l[len(l)//2])/2 \n",
    "print(\"Median of the list:\",median)\n",
    "\n",
    "#Standard Deviation\n",
    "variance=sum((x-mean)**2 for x in l)/len(l)\n",
    "standarddeviation=variance**0.5\n",
    "print(\"Standard deviation of the list:\",standarddeviation)\n"
   ]
  },
  {
   "cell_type": "code",
   "execution_count": null,
   "metadata": {},
   "outputs": [],
   "source": [
    "# 2. Mutable and Immutable Data Types\n",
    "#Mutable data types\n",
    "print(\"Mutable data types are those whose elements can be changed in place in the memory block.\")\n",
    "lst=[1,2,3,4]\n",
    "print(\"List before updating:\",lst)\n",
    "lst[1]=7\n",
    "print(\"List after updating:\",l)\n",
    "print(\".\\n\"*3)\n",
    "\n",
    "#Immutable data types\n",
    "print(\"Immutable data types are those whose elements can't be changed in place in the memory block; e.g Tuple\")\n",
    "t=(1,2,3,4 )\n",
    "print(t)\n",
    "try:\n",
    "    print(\"Trying to change 2nd index of the tupple\")\n",
    "    t[1]=5\n",
    "    print(\"This statement will executed if the above is valid\")    \n",
    "except:\n",
    "    print(\"Updating element of tuple raised an error because we can't change immutable data types\")"
   ]
  },
  {
   "cell_type": "code",
   "execution_count": null,
   "metadata": {},
   "outputs": [],
   "source": [
    "# 3. Fibonacci Sequence:\n",
    "def generat(n):\n",
    "    if n==1:\n",
    "        return [1]\n",
    "    fablst=[1]\n",
    "    for i in range(2,n+1):\n",
    "        previous=fablst"
   ]
  },
  {
   "cell_type": "code",
   "execution_count": 1,
   "metadata": {},
   "outputs": [
    {
     "name": "stdout",
     "output_type": "stream",
     "text": [
      "Given list is: [3, 5, 7, 9, 11, 13]\n",
      "After inserting 6 at index 3: [3, 5, 7, 6, 9, 11, 13]\n",
      "After removing 7 [3, 5, 6, 9, 11, 13]\n",
      "After reversing [13, 11, 9, 6, 5, 3]\n",
      "Mean of the list is: 7.833333333333333\n"
     ]
    },
    {
     "ename": "TypeError",
     "evalue": "object of type 'int' has no len()",
     "output_type": "error",
     "traceback": [
      "\u001b[1;31m---------------------------------------------------------------------------\u001b[0m",
      "\u001b[1;31mTypeError\u001b[0m                                 Traceback (most recent call last)",
      "Cell \u001b[1;32mIn[1], line 19\u001b[0m\n\u001b[0;32m     17\u001b[0m \u001b[38;5;66;03m#Median\u001b[39;00m\n\u001b[0;32m     18\u001b[0m l\u001b[38;5;241m=\u001b[39m\u001b[38;5;28msorted\u001b[39m(givenList) \n\u001b[1;32m---> 19\u001b[0m \u001b[38;5;28;01mif\u001b[39;00m \u001b[38;5;28;43mlen\u001b[39;49m\u001b[43m(\u001b[49m\u001b[38;5;241;43m1\u001b[39;49m\u001b[43m)\u001b[49m\u001b[38;5;241m%\u001b[39m\u001b[38;5;241m2\u001b[39m\u001b[38;5;241m!=\u001b[39m\u001b[38;5;241m0\u001b[39m:\n\u001b[0;32m     20\u001b[0m     median\u001b[38;5;241m=\u001b[39ml[(\u001b[38;5;28mlen\u001b[39m(l)\u001b[38;5;241m+\u001b[39m\u001b[38;5;241m1\u001b[39m)\u001b[38;5;241m/\u001b[39m\u001b[38;5;241m/\u001b[39m\u001b[38;5;241m2\u001b[39m\u001b[38;5;241m-\u001b[39m\u001b[38;5;241m1\u001b[39m]\n\u001b[0;32m     21\u001b[0m \u001b[38;5;28;01melse\u001b[39;00m:\n",
      "\u001b[1;31mTypeError\u001b[0m: object of type 'int' has no len()"
     ]
    }
   ],
   "source": [
    "# 4. list manipulation:\n",
    "givenList=[3, 5, 7, 9, 11, 13]\n",
    "print(\"Given list is:\",givenList)\n",
    "\n",
    "givenList.insert(3,6)   \n",
    "print(\"After inserting 6 at index 3:\",givenList)\n",
    "\n",
    "givenList.remove(7) \n",
    "print(\"After removing 7\",givenList)\n",
    "\n",
    "givenList.reverse() \n",
    "print(\"After reversing\",givenList)\n",
    "\n",
    "mean=sum(givenList)/len(givenList)\n",
    "print(\"Mean of the list is:\",mean)\n",
    "\n",
    "#Median\n",
    "l=sorted(givenList) \n",
    "if len(1)%2!=0:\n",
    "    median=l[(len(l)+1)//2-1]\n",
    "else:\n",
    "    median=(l[len(l)//2-1]+l[len(l)//2])/2 \n",
    "\n",
    "print(\"Median of the updated list is:\",median)"
   ]
  },
  {
   "cell_type": "code",
   "execution_count": null,
   "metadata": {},
   "outputs": [],
   "source": [
    "# 5. User input and Basic statistics \n",
    "import matplotlib.pyplot as ploot\n",
    "lst=list(map(int,input(\"Enter comma-separated list of numbers\").split(\",\")))\n",
    "mean=sum(lst)/len(lst)\n",
    "print(\"Mean:\",mean)\n",
    "print(f\"Smallest \")"
   ]
  },
  {
   "cell_type": "code",
   "execution_count": null,
   "metadata": {},
   "outputs": [
    {
     "name": "stdout",
     "output_type": "stream",
     "text": [
      "Race car: True\n",
      "My name is Hari: False\n"
     ]
    }
   ],
   "source": [
    "# 6. palindrome Check\n",
    "def checkpalindrome(strng):\n",
    "    strng=strng.replace(\" \",\"\").lower()\n",
    "    if strng==strng[::-1]:\n",
    "        return True\n",
    "    else:\n",
    "        return False\n",
    "str1=\"Race car\"\n",
    "print(str1,checkpalindrome(str1),sep=\": \")\n",
    "\n",
    "str2=\"My name is Hari\"\n",
    "print(str2,checkpalindrome(str2),sep=\": \")\n",
    "\n",
    "userString=input(\"Enter string to check for palindrome\")\n",
    "print(userString,checkpalindrome(userString),sep=\": \")"
   ]
  },
  {
   "cell_type": "code",
   "execution_count": null,
   "metadata": {},
   "outputs": [],
   "source": []
  },
  {
   "cell_type": "code",
   "execution_count": 1,
   "metadata": {},
   "outputs": [
    {
     "name": "stdout",
     "output_type": "stream",
     "text": [
      "{'a': 10, 'b': 25, 'c': 15}\n"
     ]
    }
   ],
   "source": [
    "# 9. Merging dictionaries:\n",
    "def mergeDiictionary(dict1,dict2):\n",
    "    dicti=dict1\n",
    "    for key in dict2:\n",
    "        if key in dicti:\n",
    "            dicti[key]=dicti[key]+dict2[key]\n",
    "            continue\n",
    "        dicti[key]=dict2[key]\n",
    "    return dicti\n",
    "\n",
    "dict1 = {'a': 10, 'b': 20}\n",
    "dict2 = {'b': 5, 'c': 15}\n",
    "\n",
    "print(mergeDiictionary(dict1,dict2))\n"
   ]
  },
  {
   "cell_type": "code",
   "execution_count": null,
   "metadata": {},
   "outputs": [],
   "source": [
    "# 10. Character frequency:\n",
    "import matplotlib.pyplot as plt\n",
    "s=input(\"Enter a string:\")\n",
    "print(\"The string is:\",s)\n",
    "s=s.replace(\" \",\"\").lower()\n",
    "count={}\n",
    "\n",
    "for i in s:\n",
    "    if i in count:\n",
    "        count[i]+=1\n",
    "    else:\n",
    "        count=1\n",
    "print(count)\n",
    "\n",
    "characters=count.keys()\n",
    "frequecies=count.values()\n",
    "plt.bar(characters,frequecies)\n",
    "plt.ylabel=\"Frequencies\"\n",
    "plt.xlabel=\"Characters\"\n",
    "plt.show()"
   ]
  },
  {
   "cell_type": "code",
   "execution_count": null,
   "metadata": {},
   "outputs": [],
   "source": [
    "# 11. Remove Duplicates:\n",
    "\n",
    "l=[1,1,1,1,5,4,5,9,8,3,1,1,2,3,1,5,4,2,1,5,4]\n",
    "\n",
    "n=0\n",
    "while n<len(l):\n",
    "    if l.index(l[n])!=n:\n",
    "        del l[n]\n",
    "        continue\n",
    "    n+=1\n",
    "\n",
    "print(\"List with unique elements:\",l)\n",
    "\n",
    "mean=sum(l)/len(l)\n",
    "print(\"Mean of the list:\",mean)\n",
    "\n",
    "l.sort() \n",
    "median=l[(len(l)+1)//2-1] if len(l)%2!=0 else (l[len(l)//2-1]+l[len(l)//2])/2 \n",
    "print(\"Median of the list:\",median)"
   ]
  },
  {
   "cell_type": "code",
   "execution_count": null,
   "metadata": {},
   "outputs": [],
   "source": []
  },
  {
   "cell_type": "code",
   "execution_count": null,
   "metadata": {},
   "outputs": [],
   "source": [
    "# 13.Sorting Dictionaries:\n",
    "def gk(eleven):\n",
    "    return eleven[\"marks\"]  \n",
    "\n",
    "students = [\n",
    "    {\"name\": \"Haresh\", \"Roll\": 15, \"marks\": 55},\n",
    "    {\"name\": \"Jogi\", \"Roll\": 23, \"marks\": 88},\n",
    "    {\"name\": \"Prakhar\", \"Roll\": 28, \"marks\": 72},\n",
    "    {\"name\": \"Qureshi\", \"Roll\": 30, \"marks\": 77},\n",
    "    {\"name\": \"Rakesh\", \"Roll\": 35, \"marks\": 89},\n",
    "    {\"name\": \"Ummesh\", \"Roll\": 56, \"marks\": 67},\n",
    "]\n",
    "\n",
    "students.sort(key=gk)\n",
    "print(students)\n"
   ]
  }
 ],
 "metadata": {
  "kernelspec": {
   "display_name": "Python 3",
   "language": "python",
   "name": "python3"
  },
  "language_info": {
   "codemirror_mode": {
    "name": "ipython",
    "version": 3
   },
   "file_extension": ".py",
   "mimetype": "text/x-python",
   "name": "python",
   "nbconvert_exporter": "python",
   "pygments_lexer": "ipython3",
   "version": "3.12.5"
  }
 },
 "nbformat": 4,
 "nbformat_minor": 2
}
